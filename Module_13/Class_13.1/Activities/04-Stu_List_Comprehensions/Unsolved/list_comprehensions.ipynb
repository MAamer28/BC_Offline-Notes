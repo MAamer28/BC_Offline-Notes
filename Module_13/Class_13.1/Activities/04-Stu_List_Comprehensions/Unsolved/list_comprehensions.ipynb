{
 "cells": [
  {
   "cell_type": "markdown",
   "metadata": {},
   "source": [
    "Use conditional list comprehensions to create the lists requested in the following cells.\n",
    "\n",
    "**Hint**: Remember the modulo operator (%) !\n",
    "\n",
    "`x % y` gives the remainder if `x` is divided by `y`. So, for instance `x % 2` will be `0` when x is even, and `1` when x is odd"
   ]
  },
  {
   "cell_type": "code",
   "execution_count": 1,
   "metadata": {},
   "outputs": [
    {
     "name": "stdout",
     "output_type": "stream",
     "text": [
      "0\n",
      "3\n",
      "6\n",
      "9\n",
      "12\n",
      "15\n",
      "18\n",
      "21\n",
      "24\n",
      "27\n",
      "30\n",
      "33\n",
      "36\n",
      "39\n",
      "42\n",
      "45\n",
      "48\n",
      "51\n",
      "54\n",
      "57\n",
      "60\n",
      "63\n",
      "66\n",
      "69\n",
      "72\n",
      "75\n",
      "78\n",
      "81\n",
      "84\n",
      "87\n",
      "90\n",
      "93\n",
      "96\n",
      "99\n"
     ]
    }
   ],
   "source": [
    "# Make a list of numbers up to 100 that are divisible by three\n",
    "for x in range(100):\n",
    "    if x % 3 == 0:\n",
    "        print(x)"
   ]
  },
  {
   "cell_type": "code",
   "execution_count": 2,
   "metadata": {},
   "outputs": [
    {
     "name": "stdout",
     "output_type": "stream",
     "text": [
      "0\n",
      "3\n",
      "5\n",
      "6\n",
      "9\n",
      "10\n",
      "12\n",
      "15\n",
      "18\n",
      "20\n",
      "21\n",
      "24\n",
      "25\n",
      "27\n",
      "30\n",
      "33\n",
      "35\n",
      "36\n",
      "39\n",
      "40\n",
      "42\n",
      "45\n",
      "48\n",
      "50\n",
      "51\n",
      "54\n",
      "55\n",
      "57\n",
      "60\n",
      "63\n",
      "65\n",
      "66\n",
      "69\n",
      "70\n",
      "72\n",
      "75\n",
      "78\n",
      "80\n",
      "81\n",
      "84\n",
      "85\n",
      "87\n",
      "90\n",
      "93\n",
      "95\n",
      "96\n",
      "99\n"
     ]
    }
   ],
   "source": [
    "# Make a list of numbers up to 100 that are divisible by three OR divisible by five\n",
    "for x in range(100):\n",
    "    if x % 3 == 0 or x % 5 == 0:\n",
    "        print(x)"
   ]
  },
  {
   "cell_type": "markdown",
   "metadata": {},
   "source": []
  },
  {
   "cell_type": "code",
   "execution_count": 3,
   "metadata": {},
   "outputs": [],
   "source": [
    "# # Use conditional list comprehensions to create a list of all the pet dog names.\n",
    "pets = [{\n",
    "    'name': 'Fido',\n",
    "    'age': 4,\n",
    "    'type': 'dog'\n",
    "}, {\n",
    "    'name': 'Rex',\n",
    "    'age': 2,\n",
    "    'type': 'dog'\n",
    "}, {\n",
    "    'name': 'Puddles',\n",
    "    'age': 7,\n",
    "    'type': 'wombat'\n",
    "}, {\n",
    "    'name': 'Tuna',\n",
    "    'age': 6,\n",
    "    'type': 'cat'\n",
    "}, {\n",
    "    'name': 'Springer',\n",
    "    'age': 5,\n",
    "    'type': 'dog'\n",
    "}]\n",
    "\n"
   ]
  },
  {
   "cell_type": "code",
   "execution_count": 4,
   "metadata": {},
   "outputs": [
    {
     "data": {
      "text/plain": [
       "['Fido', 'Rex', 'Springer']"
      ]
     },
     "execution_count": 4,
     "metadata": {},
     "output_type": "execute_result"
    }
   ],
   "source": [
    "dog_names = [pet['name'] for pet in pets if pet['type'] == 'dog']\n",
    "dog_names"
   ]
  },
  {
   "cell_type": "code",
   "execution_count": 6,
   "metadata": {},
   "outputs": [
    {
     "data": {
      "text/plain": [
       "[['400021', 'Adrianna Raysor', 'adrianna.raysor@360.cn'],\n",
       " ['400064', 'Amberly Kerfie', 'a.kerfie@instagram.com'],\n",
       " ['400042', 'Angelique Kleiner', 'a.klein@google.com'],\n",
       " ['400059', 'Arleen Bergman', 'arleen.bergman@friendfeed.com'],\n",
       " ['400006', 'Arlinda McBrayer', 'amcbrayer@scribd.com'],\n",
       " ['400014', 'Astrid Brewster', 'a.brewster@homestead.com'],\n",
       " ['400027', 'Ayanna Filippelli', 'ayanna@reddit.com']]"
      ]
     },
     "execution_count": 6,
     "metadata": {},
     "output_type": "execute_result"
    }
   ],
   "source": [
    "# Use a list comprehension to create a list containing three items; a \"customer_id\", \n",
    "# \"name\", and \"email\" for each customer in the customers list.  \n",
    "customers = [\"400021,Adrianna Raysor,adrianna.raysor@360.cn\",\n",
    "\"400064,Amberly Kerfie,a.kerfie@instagram.com\",\n",
    "\"400042,Angelique Kleiner,a.klein@google.com\",\n",
    "\"400059,Arleen Bergman,arleen.bergman@friendfeed.com\",\n",
    "\"400006,Arlinda McBrayer,amcbrayer@scribd.com\",\n",
    "\"400014,Astrid Brewster,a.brewster@homestead.com\",\n",
    "\"400027,Ayanna Filippelli,ayanna@reddit.com\"]\n",
    "\n",
    "customer_list = [customer.split(\",\") for customer in customers]\n",
    "\n",
    "customer_list"
   ]
  },
  {
   "cell_type": "code",
   "execution_count": 7,
   "metadata": {},
   "outputs": [
    {
     "data": {
      "text/plain": [
       "[400021, 400064, 400042, 400059, 400006, 400014, 400027]"
      ]
     },
     "execution_count": 7,
     "metadata": {},
     "output_type": "execute_result"
    }
   ],
   "source": [
    "# Use a list comprehension to extract the \"customer_id\" from each customer in the customers list \n",
    "# and then convert the \"customer_id\" to an integer.\n",
    "id_list = [int(item[0]) for item in customer_list]\n",
    "id_list"
   ]
  },
  {
   "cell_type": "code",
   "execution_count": 8,
   "metadata": {},
   "outputs": [
    {
     "ename": "NameError",
     "evalue": "name 'customer' is not defined",
     "output_type": "error",
     "traceback": [
      "\u001b[0;31m---------------------------------------------------------------------------\u001b[0m",
      "\u001b[0;31mNameError\u001b[0m                                 Traceback (most recent call last)",
      "Cell \u001b[0;32mIn[8], line 2\u001b[0m\n\u001b[1;32m      1\u001b[0m \u001b[38;5;66;03m# Use a list comprehension to split each customer \"name\" into a first and last name. \u001b[39;00m\n\u001b[0;32m----> 2\u001b[0m name_list \u001b[38;5;241m=\u001b[39m [customer\u001b[38;5;241m.\u001b[39msplit(\u001b[38;5;124m\"\u001b[39m\u001b[38;5;124m \u001b[39m\u001b[38;5;124m\"\u001b[39m) \u001b[38;5;28;01mfor\u001b[39;00m customer[\u001b[38;5;241m1\u001b[39m] \u001b[38;5;129;01min\u001b[39;00m customer_list]\n\u001b[1;32m      3\u001b[0m name_list\n",
      "Cell \u001b[0;32mIn[8], line 2\u001b[0m, in \u001b[0;36m<listcomp>\u001b[0;34m(.0)\u001b[0m\n\u001b[1;32m      1\u001b[0m \u001b[38;5;66;03m# Use a list comprehension to split each customer \"name\" into a first and last name. \u001b[39;00m\n\u001b[0;32m----> 2\u001b[0m name_list \u001b[38;5;241m=\u001b[39m [customer\u001b[38;5;241m.\u001b[39msplit(\u001b[38;5;124m\"\u001b[39m\u001b[38;5;124m \u001b[39m\u001b[38;5;124m\"\u001b[39m) \u001b[38;5;28;01mfor\u001b[39;00m \u001b[43mcustomer\u001b[49m[\u001b[38;5;241m1\u001b[39m] \u001b[38;5;129;01min\u001b[39;00m customer_list]\n\u001b[1;32m      3\u001b[0m name_list\n",
      "\u001b[0;31mNameError\u001b[0m: name 'customer' is not defined"
     ]
    }
   ],
   "source": [
    "# Use a list comprehension to split each customer \"name\" into a first and last name. \n",
    "name_list = [customer.split(\" \") for customer[1] in customer_list]\n",
    "name_list"
   ]
  },
  {
   "cell_type": "code",
   "execution_count": null,
   "metadata": {},
   "outputs": [],
   "source": []
  }
 ],
 "metadata": {
  "kernelspec": {
   "display_name": "Python 3 (ipykernel)",
   "language": "python",
   "name": "python3"
  },
  "language_info": {
   "codemirror_mode": {
    "name": "ipython",
    "version": 3
   },
   "file_extension": ".py",
   "mimetype": "text/x-python",
   "name": "python",
   "nbconvert_exporter": "python",
   "pygments_lexer": "ipython3",
   "version": "3.10.12"
  }
 },
 "nbformat": 4,
 "nbformat_minor": 2
}
