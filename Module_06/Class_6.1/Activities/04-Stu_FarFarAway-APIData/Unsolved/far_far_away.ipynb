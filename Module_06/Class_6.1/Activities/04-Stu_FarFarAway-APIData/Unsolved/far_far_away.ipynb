{
 "cells": [
  {
   "cell_type": "code",
   "execution_count": 1,
   "metadata": {},
   "outputs": [],
   "source": [
    "# Dependencies\n",
    "import requests\n",
    "import json"
   ]
  },
  {
   "cell_type": "code",
   "execution_count": 2,
   "metadata": {},
   "outputs": [],
   "source": [
    "# URL for GET requests to retrieve Star Wars character data\n",
    "base_url = \"https://swapi.dev/api/people/\""
   ]
  },
  {
   "cell_type": "code",
   "execution_count": 3,
   "metadata": {},
   "outputs": [
    {
     "name": "stdout",
     "output_type": "stream",
     "text": [
      "https://swapi.dev/api/people/4\n"
     ]
    }
   ],
   "source": [
    "# Create a url with a specific character id\n",
    "character_id = '4'\n",
    "url = base_url + character_id\n",
    "print(url)"
   ]
  },
  {
   "cell_type": "code",
   "execution_count": 4,
   "metadata": {},
   "outputs": [
    {
     "name": "stdout",
     "output_type": "stream",
     "text": [
      "https://swapi.dev/api/people/4\n"
     ]
    }
   ],
   "source": [
    "# Perform a get request for this character\n",
    "response = requests.get(url)\n",
    "print(response.url)"
   ]
  },
  {
   "cell_type": "code",
   "execution_count": 8,
   "metadata": {},
   "outputs": [
    {
     "name": "stdout",
     "output_type": "stream",
     "text": [
      "{\n",
      "    \"name\": \"Darth Vader\",\n",
      "    \"height\": \"202\",\n",
      "    \"mass\": \"136\",\n",
      "    \"hair_color\": \"none\",\n",
      "    \"skin_color\": \"white\",\n",
      "    \"eye_color\": \"yellow\",\n",
      "    \"birth_year\": \"41.9BBY\",\n",
      "    \"gender\": \"male\",\n",
      "    \"homeworld\": \"https://swapi.dev/api/planets/1/\",\n",
      "    \"films\": [\n",
      "        \"https://swapi.dev/api/films/1/\",\n",
      "        \"https://swapi.dev/api/films/2/\",\n",
      "        \"https://swapi.dev/api/films/3/\",\n",
      "        \"https://swapi.dev/api/films/6/\"\n",
      "    ],\n",
      "    \"species\": [],\n",
      "    \"vehicles\": [],\n",
      "    \"starships\": [\n",
      "        \"https://swapi.dev/api/starships/13/\"\n",
      "    ],\n",
      "    \"created\": \"2014-12-10T15:18:20.704000Z\",\n",
      "    \"edited\": \"2014-12-20T21:17:50.313000Z\",\n",
      "    \"url\": \"https://swapi.dev/api/people/4/\"\n",
      "}\n"
     ]
    }
   ],
   "source": [
    "# Storing the JSON response within a variable\n",
    "data = response.json()\n",
    "# Use json.dumps to print the json\n",
    "print(json.dumps(data, indent=4, sort_keys=False))"
   ]
  },
  {
   "cell_type": "code",
   "execution_count": 6,
   "metadata": {},
   "outputs": [
    {
     "name": "stdout",
     "output_type": "stream",
     "text": [
      "Darth Vader\n"
     ]
    }
   ],
   "source": [
    "# Print the name of the character retrieved\n",
    "print(data[\"name\"])"
   ]
  },
  {
   "cell_type": "code",
   "execution_count": 7,
   "metadata": {},
   "outputs": [
    {
     "name": "stdout",
     "output_type": "stream",
     "text": [
      "4\n"
     ]
    }
   ],
   "source": [
    "# Print the number of films that they were in (hint: use len())\n",
    "print(len(data[\"films\"]))"
   ]
  },
  {
   "cell_type": "code",
   "execution_count": 12,
   "metadata": {},
   "outputs": [
    {
     "name": "stdout",
     "output_type": "stream",
     "text": [
      "{\n",
      "    \"name\": \"TIE Advanced x1\",\n",
      "    \"model\": \"Twin Ion Engine Advanced x1\",\n",
      "    \"manufacturer\": \"Sienar Fleet Systems\",\n",
      "    \"cost_in_credits\": \"unknown\",\n",
      "    \"length\": \"9.2\",\n",
      "    \"max_atmosphering_speed\": \"1200\",\n",
      "    \"crew\": \"1\",\n",
      "    \"passengers\": \"0\",\n",
      "    \"cargo_capacity\": \"150\",\n",
      "    \"consumables\": \"5 days\",\n",
      "    \"hyperdrive_rating\": \"1.0\",\n",
      "    \"MGLT\": \"105\",\n",
      "    \"starship_class\": \"Starfighter\",\n",
      "    \"pilots\": [\n",
      "        \"https://swapi.dev/api/people/4/\"\n",
      "    ],\n",
      "    \"films\": [\n",
      "        \"https://swapi.dev/api/films/1/\"\n",
      "    ],\n",
      "    \"created\": \"2014-12-12T11:21:32.991000Z\",\n",
      "    \"edited\": \"2014-12-20T21:23:49.889000Z\",\n",
      "    \"url\": \"https://swapi.dev/api/starships/13/\"\n",
      "}\n"
     ]
    }
   ],
   "source": [
    "# Request the starships URI found in the starships property of the\n",
    "# previously retreived json, then use the response to figure out what this \n",
    "# character's first starship was\n",
    "starship_url = \"https://swapi.dev/api/starships/13/\"\n",
    "response_2 = requests.get(starship_url)\n",
    "starship_data = response_2.json()\n",
    "print(json.dumps(starship_data, indent = 4, sort_keys = False))"
   ]
  },
  {
   "cell_type": "code",
   "execution_count": 14,
   "metadata": {},
   "outputs": [
    {
     "name": "stdout",
     "output_type": "stream",
     "text": [
      "Darth Vader's first ship was a TIE Advanced x1\n"
     ]
    }
   ],
   "source": [
    "# Print the name of the character's first starship\n",
    "print(f\"Darth Vader's first ship was a {starship_data['name']}\")"
   ]
  },
  {
   "cell_type": "code",
   "execution_count": 10,
   "metadata": {},
   "outputs": [
    {
     "name": "stdout",
     "output_type": "stream",
     "text": [
      "Darth Vader was in:\n",
      "['A New Hope', 'The Empire Strikes Back', 'Return of the Jedi', 'Revenge of the Sith']\n"
     ]
    }
   ],
   "source": [
    "# BONUS\n"
   ]
  },
  {
   "cell_type": "code",
   "execution_count": 23,
   "metadata": {},
   "outputs": [
    {
     "name": "stdout",
     "output_type": "stream",
     "text": [
      "[\n",
      "    {\n",
      "        \"title\": \"A New Hope\",\n",
      "        \"episode_id\": 4,\n",
      "        \"opening_crawl\": \"It is a period of civil war.\\r\\nRebel spaceships, striking\\r\\nfrom a hidden base, have won\\r\\ntheir first victory against\\r\\nthe evil Galactic Empire.\\r\\n\\r\\nDuring the battle, Rebel\\r\\nspies managed to steal secret\\r\\nplans to the Empire's\\r\\nultimate weapon, the DEATH\\r\\nSTAR, an armored space\\r\\nstation with enough power\\r\\nto destroy an entire planet.\\r\\n\\r\\nPursued by the Empire's\\r\\nsinister agents, Princess\\r\\nLeia races home aboard her\\r\\nstarship, custodian of the\\r\\nstolen plans that can save her\\r\\npeople and restore\\r\\nfreedom to the galaxy....\",\n",
      "        \"director\": \"George Lucas\",\n",
      "        \"producer\": \"Gary Kurtz, Rick McCallum\",\n",
      "        \"release_date\": \"1977-05-25\",\n",
      "        \"characters\": [\n",
      "            \"https://swapi.dev/api/people/1/\",\n",
      "            \"https://swapi.dev/api/people/2/\",\n",
      "            \"https://swapi.dev/api/people/3/\",\n",
      "            \"https://swapi.dev/api/people/4/\",\n",
      "            \"https://swapi.dev/api/people/5/\",\n",
      "            \"https://swapi.dev/api/people/6/\",\n",
      "            \"https://swapi.dev/api/people/7/\",\n",
      "            \"https://swapi.dev/api/people/8/\",\n",
      "            \"https://swapi.dev/api/people/9/\",\n",
      "            \"https://swapi.dev/api/people/10/\",\n",
      "            \"https://swapi.dev/api/people/12/\",\n",
      "            \"https://swapi.dev/api/people/13/\",\n",
      "            \"https://swapi.dev/api/people/14/\",\n",
      "            \"https://swapi.dev/api/people/15/\",\n",
      "            \"https://swapi.dev/api/people/16/\",\n",
      "            \"https://swapi.dev/api/people/18/\",\n",
      "            \"https://swapi.dev/api/people/19/\",\n",
      "            \"https://swapi.dev/api/people/81/\"\n",
      "        ],\n",
      "        \"planets\": [\n",
      "            \"https://swapi.dev/api/planets/1/\",\n",
      "            \"https://swapi.dev/api/planets/2/\",\n",
      "            \"https://swapi.dev/api/planets/3/\"\n",
      "        ],\n",
      "        \"starships\": [\n",
      "            \"https://swapi.dev/api/starships/2/\",\n",
      "            \"https://swapi.dev/api/starships/3/\",\n",
      "            \"https://swapi.dev/api/starships/5/\",\n",
      "            \"https://swapi.dev/api/starships/9/\",\n",
      "            \"https://swapi.dev/api/starships/10/\",\n",
      "            \"https://swapi.dev/api/starships/11/\",\n",
      "            \"https://swapi.dev/api/starships/12/\",\n",
      "            \"https://swapi.dev/api/starships/13/\"\n",
      "        ],\n",
      "        \"vehicles\": [\n",
      "            \"https://swapi.dev/api/vehicles/4/\",\n",
      "            \"https://swapi.dev/api/vehicles/6/\",\n",
      "            \"https://swapi.dev/api/vehicles/7/\",\n",
      "            \"https://swapi.dev/api/vehicles/8/\"\n",
      "        ],\n",
      "        \"species\": [\n",
      "            \"https://swapi.dev/api/species/1/\",\n",
      "            \"https://swapi.dev/api/species/2/\",\n",
      "            \"https://swapi.dev/api/species/3/\",\n",
      "            \"https://swapi.dev/api/species/4/\",\n",
      "            \"https://swapi.dev/api/species/5/\"\n",
      "        ],\n",
      "        \"created\": \"2014-12-10T14:23:31.880000Z\",\n",
      "        \"edited\": \"2014-12-20T19:49:45.256000Z\",\n",
      "        \"url\": \"https://swapi.dev/api/films/1/\"\n",
      "    },\n",
      "    {\n",
      "        \"title\": \"The Empire Strikes Back\",\n",
      "        \"episode_id\": 5,\n",
      "        \"opening_crawl\": \"It is a dark time for the\\r\\nRebellion. Although the Death\\r\\nStar has been destroyed,\\r\\nImperial troops have driven the\\r\\nRebel forces from their hidden\\r\\nbase and pursued them across\\r\\nthe galaxy.\\r\\n\\r\\nEvading the dreaded Imperial\\r\\nStarfleet, a group of freedom\\r\\nfighters led by Luke Skywalker\\r\\nhas established a new secret\\r\\nbase on the remote ice world\\r\\nof Hoth.\\r\\n\\r\\nThe evil lord Darth Vader,\\r\\nobsessed with finding young\\r\\nSkywalker, has dispatched\\r\\nthousands of remote probes into\\r\\nthe far reaches of space....\",\n",
      "        \"director\": \"Irvin Kershner\",\n",
      "        \"producer\": \"Gary Kurtz, Rick McCallum\",\n",
      "        \"release_date\": \"1980-05-17\",\n",
      "        \"characters\": [\n",
      "            \"https://swapi.dev/api/people/1/\",\n",
      "            \"https://swapi.dev/api/people/2/\",\n",
      "            \"https://swapi.dev/api/people/3/\",\n",
      "            \"https://swapi.dev/api/people/4/\",\n",
      "            \"https://swapi.dev/api/people/5/\",\n",
      "            \"https://swapi.dev/api/people/10/\",\n",
      "            \"https://swapi.dev/api/people/13/\",\n",
      "            \"https://swapi.dev/api/people/14/\",\n",
      "            \"https://swapi.dev/api/people/18/\",\n",
      "            \"https://swapi.dev/api/people/20/\",\n",
      "            \"https://swapi.dev/api/people/21/\",\n",
      "            \"https://swapi.dev/api/people/22/\",\n",
      "            \"https://swapi.dev/api/people/23/\",\n",
      "            \"https://swapi.dev/api/people/24/\",\n",
      "            \"https://swapi.dev/api/people/25/\",\n",
      "            \"https://swapi.dev/api/people/26/\"\n",
      "        ],\n",
      "        \"planets\": [\n",
      "            \"https://swapi.dev/api/planets/4/\",\n",
      "            \"https://swapi.dev/api/planets/5/\",\n",
      "            \"https://swapi.dev/api/planets/6/\",\n",
      "            \"https://swapi.dev/api/planets/27/\"\n",
      "        ],\n",
      "        \"starships\": [\n",
      "            \"https://swapi.dev/api/starships/3/\",\n",
      "            \"https://swapi.dev/api/starships/10/\",\n",
      "            \"https://swapi.dev/api/starships/11/\",\n",
      "            \"https://swapi.dev/api/starships/12/\",\n",
      "            \"https://swapi.dev/api/starships/15/\",\n",
      "            \"https://swapi.dev/api/starships/17/\",\n",
      "            \"https://swapi.dev/api/starships/21/\",\n",
      "            \"https://swapi.dev/api/starships/22/\",\n",
      "            \"https://swapi.dev/api/starships/23/\"\n",
      "        ],\n",
      "        \"vehicles\": [\n",
      "            \"https://swapi.dev/api/vehicles/8/\",\n",
      "            \"https://swapi.dev/api/vehicles/14/\",\n",
      "            \"https://swapi.dev/api/vehicles/16/\",\n",
      "            \"https://swapi.dev/api/vehicles/18/\",\n",
      "            \"https://swapi.dev/api/vehicles/19/\",\n",
      "            \"https://swapi.dev/api/vehicles/20/\"\n",
      "        ],\n",
      "        \"species\": [\n",
      "            \"https://swapi.dev/api/species/1/\",\n",
      "            \"https://swapi.dev/api/species/2/\",\n",
      "            \"https://swapi.dev/api/species/3/\",\n",
      "            \"https://swapi.dev/api/species/6/\",\n",
      "            \"https://swapi.dev/api/species/7/\"\n",
      "        ],\n",
      "        \"created\": \"2014-12-12T11:26:24.656000Z\",\n",
      "        \"edited\": \"2014-12-15T13:07:53.386000Z\",\n",
      "        \"url\": \"https://swapi.dev/api/films/2/\"\n",
      "    },\n",
      "    {\n",
      "        \"title\": \"Return of the Jedi\",\n",
      "        \"episode_id\": 6,\n",
      "        \"opening_crawl\": \"Luke Skywalker has returned to\\r\\nhis home planet of Tatooine in\\r\\nan attempt to rescue his\\r\\nfriend Han Solo from the\\r\\nclutches of the vile gangster\\r\\nJabba the Hutt.\\r\\n\\r\\nLittle does Luke know that the\\r\\nGALACTIC EMPIRE has secretly\\r\\nbegun construction on a new\\r\\narmored space station even\\r\\nmore powerful than the first\\r\\ndreaded Death Star.\\r\\n\\r\\nWhen completed, this ultimate\\r\\nweapon will spell certain doom\\r\\nfor the small band of rebels\\r\\nstruggling to restore freedom\\r\\nto the galaxy...\",\n",
      "        \"director\": \"Richard Marquand\",\n",
      "        \"producer\": \"Howard G. Kazanjian, George Lucas, Rick McCallum\",\n",
      "        \"release_date\": \"1983-05-25\",\n",
      "        \"characters\": [\n",
      "            \"https://swapi.dev/api/people/1/\",\n",
      "            \"https://swapi.dev/api/people/2/\",\n",
      "            \"https://swapi.dev/api/people/3/\",\n",
      "            \"https://swapi.dev/api/people/4/\",\n",
      "            \"https://swapi.dev/api/people/5/\",\n",
      "            \"https://swapi.dev/api/people/10/\",\n",
      "            \"https://swapi.dev/api/people/13/\",\n",
      "            \"https://swapi.dev/api/people/14/\",\n",
      "            \"https://swapi.dev/api/people/16/\",\n",
      "            \"https://swapi.dev/api/people/18/\",\n",
      "            \"https://swapi.dev/api/people/20/\",\n",
      "            \"https://swapi.dev/api/people/21/\",\n",
      "            \"https://swapi.dev/api/people/22/\",\n",
      "            \"https://swapi.dev/api/people/25/\",\n",
      "            \"https://swapi.dev/api/people/27/\",\n",
      "            \"https://swapi.dev/api/people/28/\",\n",
      "            \"https://swapi.dev/api/people/29/\",\n",
      "            \"https://swapi.dev/api/people/30/\",\n",
      "            \"https://swapi.dev/api/people/31/\",\n",
      "            \"https://swapi.dev/api/people/45/\"\n",
      "        ],\n",
      "        \"planets\": [\n",
      "            \"https://swapi.dev/api/planets/1/\",\n",
      "            \"https://swapi.dev/api/planets/5/\",\n",
      "            \"https://swapi.dev/api/planets/7/\",\n",
      "            \"https://swapi.dev/api/planets/8/\",\n",
      "            \"https://swapi.dev/api/planets/9/\"\n",
      "        ],\n",
      "        \"starships\": [\n",
      "            \"https://swapi.dev/api/starships/2/\",\n",
      "            \"https://swapi.dev/api/starships/3/\",\n",
      "            \"https://swapi.dev/api/starships/10/\",\n",
      "            \"https://swapi.dev/api/starships/11/\",\n",
      "            \"https://swapi.dev/api/starships/12/\",\n",
      "            \"https://swapi.dev/api/starships/15/\",\n",
      "            \"https://swapi.dev/api/starships/17/\",\n",
      "            \"https://swapi.dev/api/starships/22/\",\n",
      "            \"https://swapi.dev/api/starships/23/\",\n",
      "            \"https://swapi.dev/api/starships/27/\",\n",
      "            \"https://swapi.dev/api/starships/28/\",\n",
      "            \"https://swapi.dev/api/starships/29/\"\n",
      "        ],\n",
      "        \"vehicles\": [\n",
      "            \"https://swapi.dev/api/vehicles/8/\",\n",
      "            \"https://swapi.dev/api/vehicles/16/\",\n",
      "            \"https://swapi.dev/api/vehicles/18/\",\n",
      "            \"https://swapi.dev/api/vehicles/19/\",\n",
      "            \"https://swapi.dev/api/vehicles/24/\",\n",
      "            \"https://swapi.dev/api/vehicles/25/\",\n",
      "            \"https://swapi.dev/api/vehicles/26/\",\n",
      "            \"https://swapi.dev/api/vehicles/30/\"\n",
      "        ],\n",
      "        \"species\": [\n",
      "            \"https://swapi.dev/api/species/1/\",\n",
      "            \"https://swapi.dev/api/species/2/\",\n",
      "            \"https://swapi.dev/api/species/3/\",\n",
      "            \"https://swapi.dev/api/species/5/\",\n",
      "            \"https://swapi.dev/api/species/6/\",\n",
      "            \"https://swapi.dev/api/species/8/\",\n",
      "            \"https://swapi.dev/api/species/9/\",\n",
      "            \"https://swapi.dev/api/species/10/\",\n",
      "            \"https://swapi.dev/api/species/15/\"\n",
      "        ],\n",
      "        \"created\": \"2014-12-18T10:39:33.255000Z\",\n",
      "        \"edited\": \"2014-12-20T09:48:37.462000Z\",\n",
      "        \"url\": \"https://swapi.dev/api/films/3/\"\n",
      "    },\n",
      "    {\n",
      "        \"title\": \"Revenge of the Sith\",\n",
      "        \"episode_id\": 3,\n",
      "        \"opening_crawl\": \"War! The Republic is crumbling\\r\\nunder attacks by the ruthless\\r\\nSith Lord, Count Dooku.\\r\\nThere are heroes on both sides.\\r\\nEvil is everywhere.\\r\\n\\r\\nIn a stunning move, the\\r\\nfiendish droid leader, General\\r\\nGrievous, has swept into the\\r\\nRepublic capital and kidnapped\\r\\nChancellor Palpatine, leader of\\r\\nthe Galactic Senate.\\r\\n\\r\\nAs the Separatist Droid Army\\r\\nattempts to flee the besieged\\r\\ncapital with their valuable\\r\\nhostage, two Jedi Knights lead a\\r\\ndesperate mission to rescue the\\r\\ncaptive Chancellor....\",\n",
      "        \"director\": \"George Lucas\",\n",
      "        \"producer\": \"Rick McCallum\",\n",
      "        \"release_date\": \"2005-05-19\",\n",
      "        \"characters\": [\n",
      "            \"https://swapi.dev/api/people/1/\",\n",
      "            \"https://swapi.dev/api/people/2/\",\n",
      "            \"https://swapi.dev/api/people/3/\",\n",
      "            \"https://swapi.dev/api/people/4/\",\n",
      "            \"https://swapi.dev/api/people/5/\",\n",
      "            \"https://swapi.dev/api/people/6/\",\n",
      "            \"https://swapi.dev/api/people/7/\",\n",
      "            \"https://swapi.dev/api/people/10/\",\n",
      "            \"https://swapi.dev/api/people/11/\",\n",
      "            \"https://swapi.dev/api/people/12/\",\n",
      "            \"https://swapi.dev/api/people/13/\",\n",
      "            \"https://swapi.dev/api/people/20/\",\n",
      "            \"https://swapi.dev/api/people/21/\",\n",
      "            \"https://swapi.dev/api/people/33/\",\n",
      "            \"https://swapi.dev/api/people/35/\",\n",
      "            \"https://swapi.dev/api/people/46/\",\n",
      "            \"https://swapi.dev/api/people/51/\",\n",
      "            \"https://swapi.dev/api/people/52/\",\n",
      "            \"https://swapi.dev/api/people/53/\",\n",
      "            \"https://swapi.dev/api/people/54/\",\n",
      "            \"https://swapi.dev/api/people/55/\",\n",
      "            \"https://swapi.dev/api/people/56/\",\n",
      "            \"https://swapi.dev/api/people/58/\",\n",
      "            \"https://swapi.dev/api/people/63/\",\n",
      "            \"https://swapi.dev/api/people/64/\",\n",
      "            \"https://swapi.dev/api/people/67/\",\n",
      "            \"https://swapi.dev/api/people/68/\",\n",
      "            \"https://swapi.dev/api/people/75/\",\n",
      "            \"https://swapi.dev/api/people/78/\",\n",
      "            \"https://swapi.dev/api/people/79/\",\n",
      "            \"https://swapi.dev/api/people/80/\",\n",
      "            \"https://swapi.dev/api/people/81/\",\n",
      "            \"https://swapi.dev/api/people/82/\",\n",
      "            \"https://swapi.dev/api/people/83/\"\n",
      "        ],\n",
      "        \"planets\": [\n",
      "            \"https://swapi.dev/api/planets/1/\",\n",
      "            \"https://swapi.dev/api/planets/2/\",\n",
      "            \"https://swapi.dev/api/planets/5/\",\n",
      "            \"https://swapi.dev/api/planets/8/\",\n",
      "            \"https://swapi.dev/api/planets/9/\",\n",
      "            \"https://swapi.dev/api/planets/12/\",\n",
      "            \"https://swapi.dev/api/planets/13/\",\n",
      "            \"https://swapi.dev/api/planets/14/\",\n",
      "            \"https://swapi.dev/api/planets/15/\",\n",
      "            \"https://swapi.dev/api/planets/16/\",\n",
      "            \"https://swapi.dev/api/planets/17/\",\n",
      "            \"https://swapi.dev/api/planets/18/\",\n",
      "            \"https://swapi.dev/api/planets/19/\"\n",
      "        ],\n",
      "        \"starships\": [\n",
      "            \"https://swapi.dev/api/starships/2/\",\n",
      "            \"https://swapi.dev/api/starships/32/\",\n",
      "            \"https://swapi.dev/api/starships/48/\",\n",
      "            \"https://swapi.dev/api/starships/59/\",\n",
      "            \"https://swapi.dev/api/starships/61/\",\n",
      "            \"https://swapi.dev/api/starships/63/\",\n",
      "            \"https://swapi.dev/api/starships/64/\",\n",
      "            \"https://swapi.dev/api/starships/65/\",\n",
      "            \"https://swapi.dev/api/starships/66/\",\n",
      "            \"https://swapi.dev/api/starships/68/\",\n",
      "            \"https://swapi.dev/api/starships/74/\",\n",
      "            \"https://swapi.dev/api/starships/75/\"\n",
      "        ],\n",
      "        \"vehicles\": [\n",
      "            \"https://swapi.dev/api/vehicles/33/\",\n",
      "            \"https://swapi.dev/api/vehicles/50/\",\n",
      "            \"https://swapi.dev/api/vehicles/53/\",\n",
      "            \"https://swapi.dev/api/vehicles/56/\",\n",
      "            \"https://swapi.dev/api/vehicles/60/\",\n",
      "            \"https://swapi.dev/api/vehicles/62/\",\n",
      "            \"https://swapi.dev/api/vehicles/67/\",\n",
      "            \"https://swapi.dev/api/vehicles/69/\",\n",
      "            \"https://swapi.dev/api/vehicles/70/\",\n",
      "            \"https://swapi.dev/api/vehicles/71/\",\n",
      "            \"https://swapi.dev/api/vehicles/72/\",\n",
      "            \"https://swapi.dev/api/vehicles/73/\",\n",
      "            \"https://swapi.dev/api/vehicles/76/\"\n",
      "        ],\n",
      "        \"species\": [\n",
      "            \"https://swapi.dev/api/species/1/\",\n",
      "            \"https://swapi.dev/api/species/2/\",\n",
      "            \"https://swapi.dev/api/species/3/\",\n",
      "            \"https://swapi.dev/api/species/6/\",\n",
      "            \"https://swapi.dev/api/species/15/\",\n",
      "            \"https://swapi.dev/api/species/19/\",\n",
      "            \"https://swapi.dev/api/species/20/\",\n",
      "            \"https://swapi.dev/api/species/23/\",\n",
      "            \"https://swapi.dev/api/species/24/\",\n",
      "            \"https://swapi.dev/api/species/25/\",\n",
      "            \"https://swapi.dev/api/species/26/\",\n",
      "            \"https://swapi.dev/api/species/27/\",\n",
      "            \"https://swapi.dev/api/species/28/\",\n",
      "            \"https://swapi.dev/api/species/29/\",\n",
      "            \"https://swapi.dev/api/species/30/\",\n",
      "            \"https://swapi.dev/api/species/33/\",\n",
      "            \"https://swapi.dev/api/species/34/\",\n",
      "            \"https://swapi.dev/api/species/35/\",\n",
      "            \"https://swapi.dev/api/species/36/\",\n",
      "            \"https://swapi.dev/api/species/37/\"\n",
      "        ],\n",
      "        \"created\": \"2014-12-20T18:49:38.403000Z\",\n",
      "        \"edited\": \"2014-12-20T20:47:52.073000Z\",\n",
      "        \"url\": \"https://swapi.dev/api/films/6/\"\n",
      "    }\n",
      "]\n"
     ]
    }
   ],
   "source": [
    "url1 = \"https://swapi.dev/api/films/1/\"\n",
    "url2 = \"https://swapi.dev/api/films/2/\"\n",
    "url3 = \"https://swapi.dev/api/films/3/\"\n",
    "url4 = \"https://swapi.dev/api/films/6/\"\n",
    "\n",
    "response1 = requests.get(url1)\n",
    "response2 = requests.get(url2)\n",
    "response3 = requests.get(url3)\n",
    "response4 = requests.get(url4)\n",
    "\n",
    "json1 = response1.json()\n",
    "json2 = response2.json()\n",
    "json3 = response3.json()\n",
    "json4 = response4.json()\n",
    "\n",
    "print(json.dumps([json1, json2, json3, json4], indent = 4, sort_keys = False))\n"
   ]
  },
  {
   "cell_type": "code",
   "execution_count": 24,
   "metadata": {},
   "outputs": [
    {
     "name": "stdout",
     "output_type": "stream",
     "text": [
      "Darth Vader appeared in ('A New Hope', 'The Empire Strikes Back', 'Return of the Jedi', 'Revenge of the Sith')\n"
     ]
    }
   ],
   "source": [
    "print(f\"Darth Vader appeared in {json1['title'], json2['title'], json3['title'], json4['title']}\")"
   ]
  },
  {
   "cell_type": "code",
   "execution_count": null,
   "metadata": {},
   "outputs": [],
   "source": []
  }
 ],
 "metadata": {
  "kernelspec": {
   "display_name": "Python 3 (ipykernel)",
   "language": "python",
   "name": "python3"
  },
  "language_info": {
   "codemirror_mode": {
    "name": "ipython",
    "version": 3
   },
   "file_extension": ".py",
   "mimetype": "text/x-python",
   "name": "python",
   "nbconvert_exporter": "python",
   "pygments_lexer": "ipython3",
   "version": "3.10.11"
  },
  "varInspector": {
   "cols": {
    "lenName": 16,
    "lenType": 16,
    "lenVar": 40
   },
   "kernels_config": {
    "python": {
     "delete_cmd_postfix": "",
     "delete_cmd_prefix": "del ",
     "library": "var_list.py",
     "varRefreshCmd": "print(var_dic_list())"
    },
    "r": {
     "delete_cmd_postfix": ") ",
     "delete_cmd_prefix": "rm(",
     "library": "var_list.r",
     "varRefreshCmd": "cat(var_dic_list()) "
    }
   },
   "types_to_exclude": [
    "module",
    "function",
    "builtin_function_or_method",
    "instance",
    "_Feature"
   ],
   "window_display": false
  }
 },
 "nbformat": 4,
 "nbformat_minor": 2
}
