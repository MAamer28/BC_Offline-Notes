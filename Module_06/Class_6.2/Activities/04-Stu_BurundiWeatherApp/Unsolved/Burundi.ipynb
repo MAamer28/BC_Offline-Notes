{
 "cells": [
  {
   "cell_type": "code",
   "execution_count": 1,
   "metadata": {},
   "outputs": [],
   "source": [
    "# Dependencies\n",
    "import requests\n",
    "import json\n",
    "from config import api_key\n",
    "from pprint import pprint\n",
    "\n",
    "# Save config information.\n",
    "url = \"http://api.openweathermap.org/data/2.5/weather?\"\n",
    "city = \"Bujumbura\""
   ]
  },
  {
   "cell_type": "code",
   "execution_count": 2,
   "metadata": {},
   "outputs": [],
   "source": [
    "# Build query URL and request your results in Celsius\n",
    "\n",
    "query_url = url + \"appid=\" + api_key + \"&q=\" + city + \"&units=metric\"\n",
    "\n",
    "# Get weather data\n",
    "weather_response = requests.get(query_url)\n",
    "weather_json = weather_response.json()"
   ]
  },
  {
   "cell_type": "code",
   "execution_count": 3,
   "metadata": {},
   "outputs": [
    {
     "name": "stdout",
     "output_type": "stream",
     "text": [
      "The weather in Bujumbura at the moment is {'coord': {'lon': 29.3644, 'lat': -3.3822}, 'weather': [{'id': 802, 'main': 'Clouds', 'description': 'scattered clouds', 'icon': '03d'}], 'base': 'stations', 'main': {'temp': 24.82, 'feels_like': 25.24, 'temp_min': 24.82, 'temp_max': 24.82, 'pressure': 1013, 'humidity': 72, 'sea_level': 1013, 'grnd_level': 925}, 'visibility': 10000, 'wind': {'speed': 2.92, 'deg': 176, 'gust': 4.28}, 'clouds': {'all': 34}, 'dt': 1686584267, 'sys': {'country': 'BI', 'sunrise': 1686542673, 'sunset': 1686585613}, 'timezone': 7200, 'id': 425378, 'name': 'Bujumbura', 'cod': 200}\n"
     ]
    }
   ],
   "source": [
    "# Get temperature from JSON response\n",
    "print(f\"The weather in Bujumbura at the moment is {weather_json}\")"
   ]
  },
  {
   "cell_type": "code",
   "execution_count": 4,
   "metadata": {},
   "outputs": [
    {
     "name": "stdout",
     "output_type": "stream",
     "text": [
      "The temperature in Bujumbura 24.82 C.\n"
     ]
    }
   ],
   "source": [
    "# Report temperature\n",
    "print(f\"The temperature in Bujumbura {weather_json['main']['temp']} C.\")"
   ]
  },
  {
   "cell_type": "code",
   "execution_count": 5,
   "metadata": {},
   "outputs": [
    {
     "name": "stdout",
     "output_type": "stream",
     "text": [
      "{   'base': 'stations',\n",
      "    'clouds': {'all': 34},\n",
      "    'cod': 200,\n",
      "    'coord': {'lat': -3.3822, 'lon': 29.3644},\n",
      "    'dt': 1686584267,\n",
      "    'id': 425378,\n",
      "    'main': {   'feels_like': 25.24,\n",
      "                'grnd_level': 925,\n",
      "                'humidity': 72,\n",
      "                'pressure': 1013,\n",
      "                'sea_level': 1013,\n",
      "                'temp': 24.82,\n",
      "                'temp_max': 24.82,\n",
      "                'temp_min': 24.82},\n",
      "    'name': 'Bujumbura',\n",
      "    'sys': {'country': 'BI', 'sunrise': 1686542673, 'sunset': 1686585613},\n",
      "    'timezone': 7200,\n",
      "    'visibility': 10000,\n",
      "    'weather': [   {   'description': 'scattered clouds',\n",
      "                       'icon': '03d',\n",
      "                       'id': 802,\n",
      "                       'main': 'Clouds'}],\n",
      "    'wind': {'deg': 176, 'gust': 4.28, 'speed': 2.92}}\n"
     ]
    }
   ],
   "source": [
    "pprint(weather_json, indent = 4)"
   ]
  },
  {
   "cell_type": "code",
   "execution_count": 5,
   "metadata": {},
   "outputs": [
    {
     "name": "stdout",
     "output_type": "stream",
     "text": [
      "The temperature in Bujumbura is 21.75C or 71.15F.\n"
     ]
    }
   ],
   "source": [
    "# BONUS\n",
    "\n",
    "# use list of units\n",
    "bujumbura_temp = []\n",
    "\n",
    "# set up list to hold two different temperatures\n",
    "\n",
    "\n",
    "# loop through the list of units and append them to temperatures list\n",
    "\n",
    "    # Build query URL based on current element in units\n",
    "\n",
    "\n",
    "    # Get weather data\n",
    "\n",
    "\n",
    "    # Get temperature from JSON response\n",
    "\n",
    "\n",
    "\n",
    "# Report temperatures by accessing each element in the list\n"
   ]
  }
 ],
 "metadata": {
  "kernelspec": {
   "display_name": "Python 3 (ipykernel)",
   "language": "python",
   "name": "python3"
  },
  "language_info": {
   "codemirror_mode": {
    "name": "ipython",
    "version": 3
   },
   "file_extension": ".py",
   "mimetype": "text/x-python",
   "name": "python",
   "nbconvert_exporter": "python",
   "pygments_lexer": "ipython3",
   "version": "3.10.11"
  },
  "varInspector": {
   "cols": {
    "lenName": 16,
    "lenType": 16,
    "lenVar": 40
   },
   "kernels_config": {
    "python": {
     "delete_cmd_postfix": "",
     "delete_cmd_prefix": "del ",
     "library": "var_list.py",
     "varRefreshCmd": "print(var_dic_list())"
    },
    "r": {
     "delete_cmd_postfix": ") ",
     "delete_cmd_prefix": "rm(",
     "library": "var_list.r",
     "varRefreshCmd": "cat(var_dic_list()) "
    }
   },
   "types_to_exclude": [
    "module",
    "function",
    "builtin_function_or_method",
    "instance",
    "_Feature"
   ],
   "window_display": false
  }
 },
 "nbformat": 4,
 "nbformat_minor": 2
}
