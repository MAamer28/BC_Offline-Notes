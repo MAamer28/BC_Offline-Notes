{
 "cells": [
  {
   "cell_type": "code",
   "execution_count": 3,
   "id": "3ef948f0",
   "metadata": {},
   "outputs": [],
   "source": [
    "# Import dependencies\n",
    "from pymongo import MongoClient\n",
    "from pprint import pprint\n",
    "import pandas as pd"
   ]
  },
  {
   "cell_type": "code",
   "execution_count": 4,
   "id": "f8f7234a",
   "metadata": {},
   "outputs": [],
   "source": [
    "# Create an instance of MongoClient\n",
    "mongo = MongoClient(port=27017)\n",
    "\n",
    "# assign the met database to a variable name\n",
    "db = mongo['met']\n",
    "\n",
    "# assign the collection to a variable\n",
    "artifacts = db['artifacts']"
   ]
  },
  {
   "cell_type": "code",
   "execution_count": 5,
   "id": "653e7565",
   "metadata": {},
   "outputs": [
    {
     "data": {
      "text/plain": [
       "{'_id': ObjectId('64b5c397eb87d19a04edc005'),\n",
       " 'objectID': 314893,\n",
       " 'isHighlight': False,\n",
       " 'accessionNumber': '1987.394.543',\n",
       " 'accessionYear': '1987',\n",
       " 'isPublicDomain': True,\n",
       " 'primaryImage': 'https://images.metmuseum.org/CRDImages/ao/original/VS1987_394_543.jpg',\n",
       " 'primaryImageSmall': 'https://images.metmuseum.org/CRDImages/ao/web-large/VS1987_394_543.jpg',\n",
       " 'additionalImages': [],\n",
       " 'constituents': None,\n",
       " 'department': 'The Michael C. Rockefeller Wing',\n",
       " 'objectName': 'Disk',\n",
       " 'title': 'Animal Disk',\n",
       " 'culture': 'Peruvian',\n",
       " 'period': '',\n",
       " 'dynasty': '',\n",
       " 'reign': '',\n",
       " 'portfolio': '',\n",
       " 'artistRole': '',\n",
       " 'artistPrefix': '',\n",
       " 'artistDisplayName': '',\n",
       " 'artistDisplayBio': '',\n",
       " 'artistSuffix': '',\n",
       " 'artistAlphaSort': '',\n",
       " 'artistNationality': '',\n",
       " 'artistBeginDate': '',\n",
       " 'artistEndDate': '',\n",
       " 'artistGender': '',\n",
       " 'artistWikidata_URL': '',\n",
       " 'artistULAN_URL': '',\n",
       " 'objectDate': 'A.D. 200–900',\n",
       " 'objectBeginDate': 200,\n",
       " 'objectEndDate': 900,\n",
       " 'medium': 'Copper, gilt',\n",
       " 'dimensions': 'H x W: 3 5/16 x 3 1/8in. (8.4 x 8cm)',\n",
       " 'measurements': [{'elementName': 'Overall',\n",
       "   'elementDescription': None,\n",
       "   'elementMeasurements': {'Height': 8.4137, 'Width': 8}}],\n",
       " 'creditLine': 'Bequest of Jane Costello Goldberg, from the Collection of Arnold I. Goldberg, 1986',\n",
       " 'geographyType': '',\n",
       " 'city': '',\n",
       " 'state': '',\n",
       " 'county': '',\n",
       " 'country': 'Peru',\n",
       " 'region': '',\n",
       " 'subregion': '',\n",
       " 'locale': '',\n",
       " 'locus': '',\n",
       " 'excavation': '',\n",
       " 'river': '',\n",
       " 'classification': 'Metal-Ornaments',\n",
       " 'rightsAndReproduction': '',\n",
       " 'linkResource': '',\n",
       " 'metadataDate': '2020-09-16T18:35:19.457Z',\n",
       " 'repository': 'Metropolitan Museum of Art, New York, NY',\n",
       " 'objectURL': 'https://www.metmuseum.org/art/collection/search/314893',\n",
       " 'tags': [{'term': 'Animals',\n",
       "   'AAT_URL': 'http://vocab.getty.edu/page/aat/300249525',\n",
       "   'Wikidata_URL': 'https://www.wikidata.org/wiki/Q729'}],\n",
       " 'objectWikidata_URL': '',\n",
       " 'isTimelineWork': False,\n",
       " 'GalleryNumber': ''}"
      ]
     },
     "execution_count": 5,
     "metadata": {},
     "output_type": "execute_result"
    }
   ],
   "source": [
    "artifacts.find_one()"
   ]
  },
  {
   "cell_type": "code",
   "execution_count": 6,
   "id": "58d6c4d0",
   "metadata": {},
   "outputs": [],
   "source": [
    "# Write an aggregation query that counts the number of documents, grouped by \"classification\"\n",
    "query = [{'$group': {'_id': \"$classification\", 'count': { '$sum': 1 }}}]"
   ]
  },
  {
   "cell_type": "code",
   "execution_count": 7,
   "id": "e522f2a8",
   "metadata": {},
   "outputs": [],
   "source": [
    "# Run the query with the aggregate method and save the results to a variable\n",
    "results = list(artifacts.aggregate(query))"
   ]
  },
  {
   "cell_type": "code",
   "execution_count": 8,
   "id": "20d84432",
   "metadata": {},
   "outputs": [
    {
     "data": {
      "text/plain": [
       "64"
      ]
     },
     "execution_count": 8,
     "metadata": {},
     "output_type": "execute_result"
    }
   ],
   "source": [
    "# Print the number of classifications in the result\n",
    "len(results)"
   ]
  },
  {
   "cell_type": "code",
   "execution_count": 9,
   "id": "e403ee13",
   "metadata": {},
   "outputs": [
    {
     "name": "stdout",
     "output_type": "stream",
     "text": [
      "[{'_id': 'Parchment', 'count': 1},\n",
      " {'_id': 'Wood-Sculpture', 'count': 217},\n",
      " {'_id': 'Ceramics-Containers', 'count': 138},\n",
      " {'_id': 'Costumes', 'count': 1},\n",
      " {'_id': 'Textiles-Costumes', 'count': 7},\n",
      " {'_id': 'Bone/Ivory-Ornaments', 'count': 31},\n",
      " {'_id': 'Paper-Drawings', 'count': 2},\n",
      " {'_id': 'Ceramics-Sculpture', 'count': 20},\n",
      " {'_id': 'Wood-Architectural', 'count': 11},\n",
      " {'_id': 'Textiles-Costumes-Accessories', 'count': 1}]\n"
     ]
    }
   ],
   "source": [
    "# Print the first 10 results\n",
    "pprint(results[0:10])"
   ]
  },
  {
   "cell_type": "code",
   "execution_count": 10,
   "id": "ed3dfa60",
   "metadata": {},
   "outputs": [
    {
     "name": "stdout",
     "output_type": "stream",
     "text": [
      "Rows in DataFrame:  64\n"
     ]
    },
    {
     "data": {
      "text/html": [
       "<div>\n",
       "<style scoped>\n",
       "    .dataframe tbody tr th:only-of-type {\n",
       "        vertical-align: middle;\n",
       "    }\n",
       "\n",
       "    .dataframe tbody tr th {\n",
       "        vertical-align: top;\n",
       "    }\n",
       "\n",
       "    .dataframe thead th {\n",
       "        text-align: right;\n",
       "    }\n",
       "</style>\n",
       "<table border=\"1\" class=\"dataframe\">\n",
       "  <thead>\n",
       "    <tr style=\"text-align: right;\">\n",
       "      <th></th>\n",
       "      <th>_id</th>\n",
       "      <th>count</th>\n",
       "    </tr>\n",
       "  </thead>\n",
       "  <tbody>\n",
       "    <tr>\n",
       "      <th>0</th>\n",
       "      <td>Parchment</td>\n",
       "      <td>1</td>\n",
       "    </tr>\n",
       "    <tr>\n",
       "      <th>1</th>\n",
       "      <td>Wood-Sculpture</td>\n",
       "      <td>217</td>\n",
       "    </tr>\n",
       "    <tr>\n",
       "      <th>2</th>\n",
       "      <td>Ceramics-Containers</td>\n",
       "      <td>138</td>\n",
       "    </tr>\n",
       "    <tr>\n",
       "      <th>3</th>\n",
       "      <td>Costumes</td>\n",
       "      <td>1</td>\n",
       "    </tr>\n",
       "    <tr>\n",
       "      <th>4</th>\n",
       "      <td>Textiles-Costumes</td>\n",
       "      <td>7</td>\n",
       "    </tr>\n",
       "    <tr>\n",
       "      <th>5</th>\n",
       "      <td>Bone/Ivory-Ornaments</td>\n",
       "      <td>31</td>\n",
       "    </tr>\n",
       "    <tr>\n",
       "      <th>6</th>\n",
       "      <td>Paper-Drawings</td>\n",
       "      <td>2</td>\n",
       "    </tr>\n",
       "    <tr>\n",
       "      <th>7</th>\n",
       "      <td>Ceramics-Sculpture</td>\n",
       "      <td>20</td>\n",
       "    </tr>\n",
       "    <tr>\n",
       "      <th>8</th>\n",
       "      <td>Wood-Architectural</td>\n",
       "      <td>11</td>\n",
       "    </tr>\n",
       "    <tr>\n",
       "      <th>9</th>\n",
       "      <td>Textiles-Costumes-Accessories</td>\n",
       "      <td>1</td>\n",
       "    </tr>\n",
       "  </tbody>\n",
       "</table>\n",
       "</div>"
      ],
      "text/plain": [
       "                             _id  count\n",
       "0                      Parchment      1\n",
       "1                 Wood-Sculpture    217\n",
       "2            Ceramics-Containers    138\n",
       "3                       Costumes      1\n",
       "4              Textiles-Costumes      7\n",
       "5           Bone/Ivory-Ornaments     31\n",
       "6                 Paper-Drawings      2\n",
       "7             Ceramics-Sculpture     20\n",
       "8             Wood-Architectural     11\n",
       "9  Textiles-Costumes-Accessories      1"
      ]
     },
     "execution_count": 10,
     "metadata": {},
     "output_type": "execute_result"
    }
   ],
   "source": [
    "# Convert mongo result to Pandas DataFrame\n",
    "result_df = pd.DataFrame(results)\n",
    "\n",
    "# Print out the length of the DataFrame\n",
    "print(\"Rows in DataFrame: \", len(result_df))\n",
    "\n",
    "\n",
    "# Display the first 10 rows of the DataFrame\n",
    "result_df.head(10)"
   ]
  },
  {
   "cell_type": "code",
   "execution_count": null,
   "id": "2816a449",
   "metadata": {},
   "outputs": [],
   "source": []
  },
  {
   "cell_type": "markdown",
   "id": "0753e7ff",
   "metadata": {},
   "source": [
    "Data Source: [The Metropolitan Museum of Art](https://www.metmuseum.org/) (2022). The Metropolitan Museum of Art Collection API https://metmuseum.github.io/. Licensed under the [Creative Commons 0 License](https://creativecommons.org/publicdomain/zero/1.0/).<br />\n",
    "Accessed Oct 3, 2022. Data collected from departmentId=5 (\"Arts of Africa, Oceania, and the Americas\") and search string \"animal\"."
   ]
  },
  {
   "cell_type": "code",
   "execution_count": null,
   "id": "d13b57fb",
   "metadata": {},
   "outputs": [],
   "source": []
  }
 ],
 "metadata": {
  "kernelspec": {
   "display_name": "Python 3 (ipykernel)",
   "language": "python",
   "name": "python3"
  },
  "language_info": {
   "codemirror_mode": {
    "name": "ipython",
    "version": 3
   },
   "file_extension": ".py",
   "mimetype": "text/x-python",
   "name": "python",
   "nbconvert_exporter": "python",
   "pygments_lexer": "ipython3",
   "version": "3.10.12"
  }
 },
 "nbformat": 4,
 "nbformat_minor": 5
}
