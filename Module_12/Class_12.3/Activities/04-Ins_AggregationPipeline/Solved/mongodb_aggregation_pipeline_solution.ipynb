{
 "cells": [
  {
   "cell_type": "code",
   "execution_count": 1,
   "id": "1b34d86e",
   "metadata": {},
   "outputs": [],
   "source": [
    "# Import dependencies\n",
    "from pymongo import MongoClient\n",
    "from pprint import pprint\n",
    "import pandas as pd"
   ]
  },
  {
   "cell_type": "code",
   "execution_count": 2,
   "id": "78c6c48a",
   "metadata": {},
   "outputs": [],
   "source": [
    "# Create an instance of MongoClient\n",
    "mongo = MongoClient(port=27017)\n",
    "\n",
    "# assign the met database to a variable name\n",
    "db = mongo['met']\n",
    "\n",
    "# assign the collection to a variable\n",
    "artifacts = db['artifacts']"
   ]
  },
  {
   "cell_type": "code",
   "execution_count": 6,
   "id": "8628dbab",
   "metadata": {},
   "outputs": [
    {
     "data": {
      "text/plain": [
       "{'_id': ObjectId('64b5c397eb87d19a04edc005'),\n",
       " 'objectID': 314893,\n",
       " 'isHighlight': False,\n",
       " 'accessionNumber': '1987.394.543',\n",
       " 'accessionYear': '1987',\n",
       " 'isPublicDomain': True,\n",
       " 'primaryImage': 'https://images.metmuseum.org/CRDImages/ao/original/VS1987_394_543.jpg',\n",
       " 'primaryImageSmall': 'https://images.metmuseum.org/CRDImages/ao/web-large/VS1987_394_543.jpg',\n",
       " 'additionalImages': [],\n",
       " 'constituents': None,\n",
       " 'department': 'The Michael C. Rockefeller Wing',\n",
       " 'objectName': 'Disk',\n",
       " 'title': 'Animal Disk',\n",
       " 'culture': 'Peruvian',\n",
       " 'period': '',\n",
       " 'dynasty': '',\n",
       " 'reign': '',\n",
       " 'portfolio': '',\n",
       " 'artistRole': '',\n",
       " 'artistPrefix': '',\n",
       " 'artistDisplayName': '',\n",
       " 'artistDisplayBio': '',\n",
       " 'artistSuffix': '',\n",
       " 'artistAlphaSort': '',\n",
       " 'artistNationality': '',\n",
       " 'artistBeginDate': '',\n",
       " 'artistEndDate': '',\n",
       " 'artistGender': '',\n",
       " 'artistWikidata_URL': '',\n",
       " 'artistULAN_URL': '',\n",
       " 'objectDate': 'A.D. 200–900',\n",
       " 'objectBeginDate': 200,\n",
       " 'objectEndDate': 900,\n",
       " 'medium': 'Copper, gilt',\n",
       " 'dimensions': 'H x W: 3 5/16 x 3 1/8in. (8.4 x 8cm)',\n",
       " 'measurements': [{'elementName': 'Overall',\n",
       "   'elementDescription': None,\n",
       "   'elementMeasurements': {'Height': 8.4137, 'Width': 8}}],\n",
       " 'creditLine': 'Bequest of Jane Costello Goldberg, from the Collection of Arnold I. Goldberg, 1986',\n",
       " 'geographyType': '',\n",
       " 'city': '',\n",
       " 'state': '',\n",
       " 'county': '',\n",
       " 'country': 'Peru',\n",
       " 'region': '',\n",
       " 'subregion': '',\n",
       " 'locale': '',\n",
       " 'locus': '',\n",
       " 'excavation': '',\n",
       " 'river': '',\n",
       " 'classification': 'Metal-Ornaments',\n",
       " 'rightsAndReproduction': '',\n",
       " 'linkResource': '',\n",
       " 'metadataDate': '2020-09-16T18:35:19.457Z',\n",
       " 'repository': 'Metropolitan Museum of Art, New York, NY',\n",
       " 'objectURL': 'https://www.metmuseum.org/art/collection/search/314893',\n",
       " 'tags': [{'term': 'Animals',\n",
       "   'AAT_URL': 'http://vocab.getty.edu/page/aat/300249525',\n",
       "   'Wikidata_URL': 'https://www.wikidata.org/wiki/Q729'}],\n",
       " 'objectWikidata_URL': '',\n",
       " 'isTimelineWork': False,\n",
       " 'GalleryNumber': ''}"
      ]
     },
     "execution_count": 6,
     "metadata": {},
     "output_type": "execute_result"
    }
   ],
   "source": [
    "artifacts.find_one()"
   ]
  },
  {
   "cell_type": "code",
   "execution_count": 3,
   "id": "8ff39b7f",
   "metadata": {},
   "outputs": [],
   "source": [
    "# Build the aggregation pipeline\n",
    "# Write a match query to find only the documents about artifacts that have a width greater than or equal to 40cm.\n",
    "match_query = {'$match': {'measurements.elementMeasurements.Width': {'$gte': 40}}}\n",
    "\n",
    "# Write an aggregation query that counts the number of documents, grouped by \"country\"\n",
    "group_query = {'$group': {'_id': \"$country\", 'count': { '$sum': 1 }}}\n",
    "\n",
    "# Create a dictionary that will allow the pipeline to sort by count in descending order\n",
    "sort_values = {'$sort': { 'count': -1 }}\n",
    "\n",
    "# Put the pipeline together\n",
    "pipeline = [match_query, group_query, sort_values]\n"
   ]
  },
  {
   "cell_type": "code",
   "execution_count": 4,
   "id": "195dca3e",
   "metadata": {},
   "outputs": [],
   "source": [
    "# Run the pipeline through the aggregate method and save the results to a variable\n",
    "results = list(artifacts.aggregate(pipeline))"
   ]
  },
  {
   "cell_type": "code",
   "execution_count": 5,
   "id": "3b7efe17",
   "metadata": {},
   "outputs": [
    {
     "name": "stdout",
     "output_type": "stream",
     "text": [
      "Number of countries in result:  24\n"
     ]
    }
   ],
   "source": [
    "# Print the number of countries in the result\n",
    "print(\"Number of countries in result: \", len(results))"
   ]
  },
  {
   "cell_type": "code",
   "execution_count": 6,
   "id": "952daf7c",
   "metadata": {},
   "outputs": [
    {
     "name": "stdout",
     "output_type": "stream",
     "text": [
      "[{'_id': 'Papua New Guinea', 'count': 232},\n",
      " {'_id': 'Indonesia', 'count': 31},\n",
      " {'_id': 'Peru', 'count': 13},\n",
      " {'_id': 'Mexico', 'count': 8},\n",
      " {'_id': 'Australia', 'count': 7},\n",
      " {'_id': 'Mali', 'count': 6},\n",
      " {'_id': \"Côte d'Ivoire\", 'count': 5},\n",
      " {'_id': 'Democratic Republic of the Congo', 'count': 5},\n",
      " {'_id': 'Malaysia', 'count': 4},\n",
      " {'_id': 'Ghana', 'count': 4}]\n"
     ]
    }
   ],
   "source": [
    "# Print the first 10 results\n",
    "pprint(results[0:10])"
   ]
  },
  {
   "cell_type": "code",
   "execution_count": 7,
   "id": "c7ee0775",
   "metadata": {},
   "outputs": [
    {
     "name": "stdout",
     "output_type": "stream",
     "text": [
      "Rows in DataFrame:  24\n"
     ]
    },
    {
     "data": {
      "text/html": [
       "<div>\n",
       "<style scoped>\n",
       "    .dataframe tbody tr th:only-of-type {\n",
       "        vertical-align: middle;\n",
       "    }\n",
       "\n",
       "    .dataframe tbody tr th {\n",
       "        vertical-align: top;\n",
       "    }\n",
       "\n",
       "    .dataframe thead th {\n",
       "        text-align: right;\n",
       "    }\n",
       "</style>\n",
       "<table border=\"1\" class=\"dataframe\">\n",
       "  <thead>\n",
       "    <tr style=\"text-align: right;\">\n",
       "      <th></th>\n",
       "      <th>_id</th>\n",
       "      <th>count</th>\n",
       "    </tr>\n",
       "  </thead>\n",
       "  <tbody>\n",
       "    <tr>\n",
       "      <th>0</th>\n",
       "      <td>Papua New Guinea</td>\n",
       "      <td>232</td>\n",
       "    </tr>\n",
       "    <tr>\n",
       "      <th>1</th>\n",
       "      <td>Indonesia</td>\n",
       "      <td>31</td>\n",
       "    </tr>\n",
       "    <tr>\n",
       "      <th>2</th>\n",
       "      <td>Peru</td>\n",
       "      <td>13</td>\n",
       "    </tr>\n",
       "    <tr>\n",
       "      <th>3</th>\n",
       "      <td>Mexico</td>\n",
       "      <td>8</td>\n",
       "    </tr>\n",
       "    <tr>\n",
       "      <th>4</th>\n",
       "      <td>Australia</td>\n",
       "      <td>7</td>\n",
       "    </tr>\n",
       "    <tr>\n",
       "      <th>5</th>\n",
       "      <td>Mali</td>\n",
       "      <td>6</td>\n",
       "    </tr>\n",
       "    <tr>\n",
       "      <th>6</th>\n",
       "      <td>Côte d'Ivoire</td>\n",
       "      <td>5</td>\n",
       "    </tr>\n",
       "    <tr>\n",
       "      <th>7</th>\n",
       "      <td>Democratic Republic of the Congo</td>\n",
       "      <td>5</td>\n",
       "    </tr>\n",
       "    <tr>\n",
       "      <th>8</th>\n",
       "      <td>Malaysia</td>\n",
       "      <td>4</td>\n",
       "    </tr>\n",
       "    <tr>\n",
       "      <th>9</th>\n",
       "      <td>Ghana</td>\n",
       "      <td>4</td>\n",
       "    </tr>\n",
       "  </tbody>\n",
       "</table>\n",
       "</div>"
      ],
      "text/plain": [
       "                                _id  count\n",
       "0                  Papua New Guinea    232\n",
       "1                         Indonesia     31\n",
       "2                              Peru     13\n",
       "3                            Mexico      8\n",
       "4                         Australia      7\n",
       "5                              Mali      6\n",
       "6                     Côte d'Ivoire      5\n",
       "7  Democratic Republic of the Congo      5\n",
       "8                          Malaysia      4\n",
       "9                             Ghana      4"
      ]
     },
     "execution_count": 7,
     "metadata": {},
     "output_type": "execute_result"
    }
   ],
   "source": [
    "# Convert mongo result to Pandas DataFrame\n",
    "result_df = pd.DataFrame(results)\n",
    "\n",
    "print(\"Rows in DataFrame: \", len(result_df))\n",
    "result_df.head(10)"
   ]
  },
  {
   "cell_type": "code",
   "execution_count": null,
   "id": "9834cff3",
   "metadata": {},
   "outputs": [],
   "source": []
  },
  {
   "cell_type": "markdown",
   "id": "c687029c",
   "metadata": {},
   "source": [
    "Data Source: [The Metropolitan Museum of Art](https://www.metmuseum.org/) (2022). The Metropolitan Museum of Art Collection API https://metmuseum.github.io/. Licensed under the [Creative Commons 0 License](https://creativecommons.org/publicdomain/zero/1.0/).<br />\n",
    "Accessed Oct 3, 2022. Data collected from departmentId=5 (\"Arts of Africa, Oceania, and the Americas\") and search string \"animal\"."
   ]
  },
  {
   "cell_type": "code",
   "execution_count": null,
   "id": "42e2f1bd",
   "metadata": {},
   "outputs": [],
   "source": []
  }
 ],
 "metadata": {
  "kernelspec": {
   "display_name": "Python 3 (ipykernel)",
   "language": "python",
   "name": "python3"
  },
  "language_info": {
   "codemirror_mode": {
    "name": "ipython",
    "version": 3
   },
   "file_extension": ".py",
   "mimetype": "text/x-python",
   "name": "python",
   "nbconvert_exporter": "python",
   "pygments_lexer": "ipython3",
   "version": "3.10.12"
  }
 },
 "nbformat": 4,
 "nbformat_minor": 5
}
