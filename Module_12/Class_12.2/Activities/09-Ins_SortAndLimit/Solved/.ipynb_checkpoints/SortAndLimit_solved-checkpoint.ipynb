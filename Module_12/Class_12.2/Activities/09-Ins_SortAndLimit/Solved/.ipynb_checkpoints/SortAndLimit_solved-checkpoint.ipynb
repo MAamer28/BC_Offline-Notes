{
 "cells": [
  {
   "cell_type": "code",
   "execution_count": 1,
   "metadata": {},
   "outputs": [],
   "source": [
    "# Import dependencies\n",
    "from pymongo import MongoClient\n",
    "from pprint import pprint"
   ]
  },
  {
   "cell_type": "code",
   "execution_count": 2,
   "metadata": {},
   "outputs": [],
   "source": [
    "# Create an instance of MongoClient\n",
    "mongo = MongoClient(port=27017)"
   ]
  },
  {
   "cell_type": "code",
   "execution_count": 3,
   "metadata": {},
   "outputs": [
    {
     "name": "stdout",
     "output_type": "stream",
     "text": [
      "['admin', 'autosaurus', 'classDB', 'config', 'fruits_db', 'local', 'petsitly_marketing']\n"
     ]
    }
   ],
   "source": [
    "# confirm that the \"autosaurus\" database is in MongoDB\n",
    "print(mongo.list_database_names())"
   ]
  },
  {
   "cell_type": "code",
   "execution_count": 4,
   "metadata": {},
   "outputs": [],
   "source": [
    "# assign the database to a variable name\n",
    "db = mongo['autosaurus']"
   ]
  },
  {
   "cell_type": "code",
   "execution_count": 5,
   "metadata": {},
   "outputs": [
    {
     "name": "stdout",
     "output_type": "stream",
     "text": [
      "['customers', 'mechanics']\n"
     ]
    }
   ],
   "source": [
    "# review the collections in our new database\n",
    "print(db.list_collection_names())"
   ]
  },
  {
   "cell_type": "code",
   "execution_count": 6,
   "metadata": {},
   "outputs": [],
   "source": [
    "# assign each collection to a variable\n",
    "customers = db['customers']\n",
    "mechanics = db['mechanics']"
   ]
  },
  {
   "cell_type": "code",
   "execution_count": 8,
   "metadata": {},
   "outputs": [
    {
     "name": "stdout",
     "output_type": "stream",
     "text": [
      "{'_id': 494,\n",
      " 'car_make': 'Morgan',\n",
      " 'car_model': 'Aero 8',\n",
      " 'car_vin': '19XFA1E55AE906039',\n",
      " 'car_year': 2009,\n",
      " 'full_name': 'Faina Coat',\n",
      " 'last_service': '9/9/22'}\n",
      "{'_id': 494,\n",
      " 'car_make': 'Morgan',\n",
      " 'car_model': 'Aero 8',\n",
      " 'car_vin': '19XFA1E55AE906039',\n",
      " 'car_year': 2009,\n",
      " 'full_name': 'Faina Coat',\n",
      " 'last_service': '9/9/22'}\n",
      "{'_id': 653,\n",
      " 'car_make': 'Volkswagen',\n",
      " 'car_model': 'Cabriolet',\n",
      " 'car_vin': '2C3CA5CV6AH303820',\n",
      " 'car_year': 2001,\n",
      " 'full_name': 'Merci Duding',\n",
      " 'last_service': '9/8/22'}\n",
      "{'_id': 617,\n",
      " 'car_make': 'Kia',\n",
      " 'car_model': 'Optima',\n",
      " 'car_vin': '19UYA42691A275727',\n",
      " 'car_year': 2003,\n",
      " 'full_name': 'Caritta Burl',\n",
      " 'last_service': '9/8/22'}\n",
      "{'_id': 301,\n",
      " 'car_make': 'Mitsubishi',\n",
      " 'car_model': 'Mighty Max',\n",
      " 'car_vin': '3D7TT2CT5BG302149',\n",
      " 'car_year': 1995,\n",
      " 'full_name': 'Eirena Gilbride',\n",
      " 'last_service': '9/7/22'}\n"
     ]
    }
   ],
   "source": [
    "# Create a query that sorts in ascending order by last_service\n",
    "query = {}\n",
    "sort = [('last_service', -1)]\n",
    "\n",
    "# Capture the results to a variable\n",
    "results = customers.find(query).sort(sort)\n",
    "\n",
    "# Pretty print the first five results\n",
    "for i in range(5):\n",
    "    pprint(results[i])"
   ]
  },
  {
   "cell_type": "code",
   "execution_count": 10,
   "metadata": {},
   "outputs": [
    {
     "name": "stdout",
     "output_type": "stream",
     "text": [
      "[{'_id': 846,\n",
      "  'car_make': 'Honda',\n",
      "  'car_model': 'Element',\n",
      "  'car_vin': 'WBADS43482G588500',\n",
      "  'car_year': 2006,\n",
      "  'full_name': 'Aurea Raittie',\n",
      "  'last_service': '9/9/22'},\n",
      " {'_id': 494,\n",
      "  'car_make': 'Morgan',\n",
      "  'car_model': 'Aero 8',\n",
      "  'car_vin': '19XFA1E55AE906039',\n",
      "  'car_year': 2009,\n",
      "  'full_name': 'Faina Coat',\n",
      "  'last_service': '9/9/22'},\n",
      " {'_id': 617,\n",
      "  'car_make': 'Kia',\n",
      "  'car_model': 'Optima',\n",
      "  'car_vin': '19UYA42691A275727',\n",
      "  'car_year': 2003,\n",
      "  'full_name': 'Caritta Burl',\n",
      "  'last_service': '9/8/22'},\n",
      " {'_id': 653,\n",
      "  'car_make': 'Volkswagen',\n",
      "  'car_model': 'Cabriolet',\n",
      "  'car_vin': '2C3CA5CV6AH303820',\n",
      "  'car_year': 2001,\n",
      "  'full_name': 'Merci Duding',\n",
      "  'last_service': '9/8/22'},\n",
      " {'_id': 301,\n",
      "  'car_make': 'Mitsubishi',\n",
      "  'car_model': 'Mighty Max',\n",
      "  'car_vin': '3D7TT2CT5BG302149',\n",
      "  'car_year': 1995,\n",
      "  'full_name': 'Eirena Gilbride',\n",
      "  'last_service': '9/7/22'}]\n"
     ]
    }
   ],
   "source": [
    "# Create a query that sorts in ascending order by last_service and limits the results to the first 5\n",
    "query = {}\n",
    "sort = [('last_service', -1)]\n",
    "limit = 5\n",
    "\n",
    "# Pretty print the results\n",
    "pprint(list(customers.find(query).sort(sort).limit(limit)))"
   ]
  },
  {
   "cell_type": "code",
   "execution_count": 9,
   "metadata": {},
   "outputs": [
    {
     "name": "stdout",
     "output_type": "stream",
     "text": [
      "[{'_id': 966,\n",
      "  'car_make': 'Hyundai',\n",
      "  'car_model': 'Tucson',\n",
      "  'car_vin': 'WBAFV3C52ED597363',\n",
      "  'car_year': 2012,\n",
      "  'full_name': 'Corny Marryatt',\n",
      "  'last_service': '8/10/22'},\n",
      " {'_id': 416,\n",
      "  'car_make': 'Nissan',\n",
      "  'car_model': 'Versa',\n",
      "  'car_vin': '5GADV23L25D047844',\n",
      "  'car_year': 2012,\n",
      "  'full_name': 'Trina Pride',\n",
      "  'last_service': '2/27/22'},\n",
      " {'_id': 488,\n",
      "  'car_make': 'Nissan',\n",
      "  'car_model': 'Sentra',\n",
      "  'car_vin': '3D7LP2ET6BG853076',\n",
      "  'car_year': 2012,\n",
      "  'full_name': 'Katerine Giffin',\n",
      "  'last_service': '9/22/22'},\n",
      " {'_id': 204,\n",
      "  'car_make': 'Nissan',\n",
      "  'car_model': 'Maxima',\n",
      "  'car_vin': 'JA32X2HU4CU568626',\n",
      "  'car_year': 2011,\n",
      "  'full_name': 'Alane Sturgess',\n",
      "  'last_service': '1/19/22'},\n",
      " {'_id': 673,\n",
      "  'car_make': 'Hyundai',\n",
      "  'car_model': 'Genesis',\n",
      "  'car_vin': '2D4RN3DG6BR998863',\n",
      "  'car_year': 2011,\n",
      "  'full_name': 'Gawain Smye',\n",
      "  'last_service': '7/22/22'}]\n"
     ]
    }
   ],
   "source": [
    "# Create a query that:\n",
    "# finds customers with a \"Nissan\" or \"Hyundai\"\n",
    "# sorts in descending order by car_year\n",
    "# limits the results to the first 5\n",
    "query = {'car_make': {'$in': [\"Nissan\", \"Hyundai\"]}}\n",
    "sort = [('car_year', -1)]\n",
    "limit = 5\n",
    "\n",
    "# Pretty print the results\n",
    "pprint(list(customers.find(query).sort(sort).limit(limit)))"
   ]
  },
  {
   "cell_type": "code",
   "execution_count": 10,
   "metadata": {},
   "outputs": [
    {
     "name": "stdout",
     "output_type": "stream",
     "text": [
      "[{'_id': 416,\n",
      "  'car_make': 'Nissan',\n",
      "  'car_model': 'Versa',\n",
      "  'car_vin': '5GADV23L25D047844',\n",
      "  'car_year': 2012,\n",
      "  'full_name': 'Trina Pride',\n",
      "  'last_service': '2/27/22'},\n",
      " {'_id': 966,\n",
      "  'car_make': 'Hyundai',\n",
      "  'car_model': 'Tucson',\n",
      "  'car_vin': 'WBAFV3C52ED597363',\n",
      "  'car_year': 2012,\n",
      "  'full_name': 'Corny Marryatt',\n",
      "  'last_service': '8/10/22'},\n",
      " {'_id': 488,\n",
      "  'car_make': 'Nissan',\n",
      "  'car_model': 'Sentra',\n",
      "  'car_vin': '3D7LP2ET6BG853076',\n",
      "  'car_year': 2012,\n",
      "  'full_name': 'Katerine Giffin',\n",
      "  'last_service': '9/22/22'},\n",
      " {'_id': 204,\n",
      "  'car_make': 'Nissan',\n",
      "  'car_model': 'Maxima',\n",
      "  'car_vin': 'JA32X2HU4CU568626',\n",
      "  'car_year': 2011,\n",
      "  'full_name': 'Alane Sturgess',\n",
      "  'last_service': '1/19/22'},\n",
      " {'_id': 969,\n",
      "  'car_make': 'Hyundai',\n",
      "  'car_model': 'Santa Fe',\n",
      "  'car_vin': 'JH4CL95835C272957',\n",
      "  'car_year': 2011,\n",
      "  'full_name': 'Feodor Bellin',\n",
      "  'last_service': '10/11/21'}]\n"
     ]
    }
   ],
   "source": [
    "# Create a query that:\n",
    "# finds customers with a \"Nissan\" or \"Hyundai\"\n",
    "# sorts in descending order by car_year, then ascending order by last_service\n",
    "# limits the results to the first 5\n",
    "query = {'car_make': {'$in': [\"Nissan\", \"Hyundai\"]}}\n",
    "sort = [('car_year', -1), ('last_service', 1)]\n",
    "limit = 5\n",
    "\n",
    "# Pretty print the results\n",
    "pprint(list(customers.find(query).sort(sort).limit(limit)))"
   ]
  },
  {
   "cell_type": "code",
   "execution_count": null,
   "metadata": {},
   "outputs": [],
   "source": []
  }
 ],
 "metadata": {
  "kernelspec": {
   "display_name": "Python 3",
   "language": "python",
   "name": "python3"
  },
  "language_info": {
   "codemirror_mode": {
    "name": "ipython",
    "version": 3
   },
   "file_extension": ".py",
   "mimetype": "text/x-python",
   "name": "python",
   "nbconvert_exporter": "python",
   "pygments_lexer": "ipython3",
   "version": "3.7.4"
  }
 },
 "nbformat": 4,
 "nbformat_minor": 5
}
